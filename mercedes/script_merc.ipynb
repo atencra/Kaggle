{
 "cells": [
  {
   "cell_type": "code",
   "execution_count": 3,
   "metadata": {
    "collapsed": false
   },
   "outputs": [
    {
     "name": "stderr",
     "output_type": "stream",
     "text": [
      "/home/dominik/anaconda3/lib/python3.6/site-packages/sklearn/cross_validation.py:44: DeprecationWarning: This module was deprecated in version 0.18 in favor of the model_selection module into which all the refactored classes and functions are moved. Also note that the interface of the new CV iterators are different from that of this module. This module will be removed in 0.20.\n",
      "  \"This module will be removed in 0.20.\", DeprecationWarning)\n"
     ]
    }
   ],
   "source": [
    "import matplotlib.pyplot as plt \n",
    "import numpy as np \n",
    "import pandas as pd\n",
    "from sklearn.ensemble import RandomForestRegressor as RFR\n",
    "from sklearn.model_selection import KFold, GridSearchCV\n",
    "from sklearn.metrics import r2_score\n",
    "import xgboost as xgb"
   ]
  },
  {
   "cell_type": "code",
   "execution_count": 4,
   "metadata": {
    "collapsed": false
   },
   "outputs": [
    {
     "name": "stdout",
     "output_type": "stream",
     "text": [
      "   ID       y  X0 X1  X2 X3 X4 X5 X6 X8  ...   X375  X376  X377  X378  X379  \\\n",
      "0   0  130.81   k  v  at  a  d  u  j  o  ...      0     0     1     0     0   \n",
      "1   6   88.53   k  t  av  e  d  y  l  o  ...      1     0     0     0     0   \n",
      "2   7   76.26  az  w   n  c  d  x  j  x  ...      0     0     0     0     0   \n",
      "\n",
      "   X380  X382  X383  X384  X385  \n",
      "0     0     0     0     0     0  \n",
      "1     0     0     0     0     0  \n",
      "2     0     1     0     0     0  \n",
      "\n",
      "[3 rows x 378 columns]\n"
     ]
    }
   ],
   "source": [
    "df = pd.read_csv(\"train.csv\")\n",
    "print(df.head(3))"
   ]
  },
  {
   "cell_type": "markdown",
   "metadata": {},
   "source": [
    "Does every ID occur only once?"
   ]
  },
  {
   "cell_type": "code",
   "execution_count": 5,
   "metadata": {
    "collapsed": true
   },
   "outputs": [],
   "source": [
    "id_count = df['ID'].value_counts().tolist()\n",
    "for i in id_count:\n",
    "    if i > 1:\n",
    "        print('ERROR! Some IDs multiple.')"
   ]
  },
  {
   "cell_type": "markdown",
   "metadata": {},
   "source": [
    "Everything looks good, no double IDs. Next we count NaNs:"
   ]
  },
  {
   "cell_type": "code",
   "execution_count": 6,
   "metadata": {
    "collapsed": false
   },
   "outputs": [
    {
     "name": "stdout",
     "output_type": "stream",
     "text": [
      "The training data contains 0 NaNs\n"
     ]
    }
   ],
   "source": [
    "list_nan =  df.isnull().sum().tolist()\n",
    "print(\"The training data contains {} NaNs\".format(sum(list_nan)))"
   ]
  },
  {
   "cell_type": "markdown",
   "metadata": {},
   "source": [
    "Don't forget to check the same in the test data later! Many features are simply binary, and some even always take the value 0. We drop them, and store the column names in order to drop them in the test set as well."
   ]
  },
  {
   "cell_type": "code",
   "execution_count": 7,
   "metadata": {
    "collapsed": false
   },
   "outputs": [
    {
     "name": "stdout",
     "output_type": "stream",
     "text": [
      "X0 {'l', 'j', 'aq', 'ba', 'g', 'ac', 'f', 'e', 'ab', 'm', 'ao', 's', 'bc', 'at', 'd', 'b', 'w', 'af', 'h', 'aa', 'r', 'ay', 'n', 'x', 'ap', 'ai', 'z', 'k', 'aw', 'v', 'au', 'ax', 'a', 'q', 'as', 'aj', 'o', 'az', 'am', 'y', 'ad', 't', 'al', 'u', 'i', 'ak', 'c'}\n",
      "X1 {'l', 'j', 'g', 'f', 'e', 'ab', 'm', 's', 'd', 'b', 'w', 'h', 'aa', 'r', 'n', 'z', 'k', 'v', 'a', 'q', 'o', 'p', 'y', 't', 'u', 'i', 'c'}\n",
      "X2 {'l', 'aq', 'g', 'j', 'ac', 'f', 'ah', 'e', 'm', 'ao', 'ar', 's', 'at', 'd', 'b', 'av', 'h', 'af', 'aa', 'r', 'ay', 'n', 'ap', 'x', 'ai', 'z', 'k', 'aw', 'an', 'ag', 'au', 'a', 'q', 'as', 'o', 'ae', 'p', 'am', 'y', 't', 'al', 'i', 'ak', 'c'}\n",
      "X3 {'d', 'g', 'b', 'f', 'e', 'a', 'c'}\n",
      "X4 {'d', 'a', 'c', 'b'}\n",
      "X5 {'l', 'g', 'j', 'ac', 'f', 'ah', 'm', 's', 'd', 'c', 'w', 'af', 'h', 'aa', 'r', 'n', 'x', 'k', 'ag', 'v', 'q', 'o', 'ae', 'p', 'y', 'ad', 'u', 'i', 'ab'}\n",
      "X6 {'d', 'l', 'j', 'g', 'k', 'b', 'f', 'h', 'e', 'a', 'i', 'c'}\n",
      "X8 {'l', 'j', 'g', 'f', 'e', 'm', 's', 'd', 'b', 'w', 'h', 'r', 'n', 'x', 'k', 'v', 'a', 'q', 'o', 'p', 'y', 't', 'u', 'i', 'c'}\n",
      "X11 {0}\n",
      "X93 {0}\n",
      "X107 {0}\n",
      "X233 {0}\n",
      "X235 {0}\n",
      "X268 {0}\n",
      "X289 {0}\n",
      "X290 {0}\n",
      "X293 {0}\n",
      "X297 {0}\n",
      "X330 {0}\n",
      "X347 {0}\n"
     ]
    }
   ],
   "source": [
    "features = df.columns\n",
    "dropped_features = []\n",
    "for f in features:\n",
    "    #directly exclude the {0,1} binary features\n",
    "    s = set(df[f].tolist())\n",
    "    if s != set([0,1]) and f != 'y' and f != 'ID':\n",
    "        print(f,s)\n",
    "    if s == set([0]):\n",
    "        dropped_features.append(f)\n",
    "        #these features do not contain any information\n",
    "        df = df.drop(f, axis = 1)\n"
   ]
  },
  {
   "cell_type": "markdown",
   "metadata": {},
   "source": [
    "Some features are categorical with many categories. \n",
    "\n",
    "Data Exploration\n",
    "====\n",
    "\n",
    "Let's look at the relation of them to the output $y$:"
   ]
  },
  {
   "cell_type": "code",
   "execution_count": 8,
   "metadata": {
    "collapsed": false
   },
   "outputs": [
    {
     "data": {
      "image/png": "[encoded data removed]",
      "text/plain": [
       "<matplotlib.figure.Figure at 0x7fbe9f983470>"
      ]
     },
     "metadata": {},
     "output_type": "display_data"
    },
    {
     "data": {
      "image/png": "[encoded data removed]",
      "text/plain": [
       "<matplotlib.figure.Figure at 0x7fbe9f961a20>"
      ]
     },
     "metadata": {},
     "output_type": "display_data"
    },
    {
     "data": {
      "image/png": "[encoded data removed]",
      "text/plain": [
       "<matplotlib.figure.Figure at 0x7fbe9f3d03c8>"
      ]
     },
     "metadata": {},
     "output_type": "display_data"
    },
    {
     "data": {
      "image/png": "[encoded data removed]",
      "text/plain": [
       "<matplotlib.figure.Figure at 0x7fbe9e76bf60>"
      ]
     },
     "metadata": {},
     "output_type": "display_data"
    },
    {
     "data": {
      "image/png": "[encoded data removed]",
      "text/plain": [
       "<matplotlib.figure.Figure at 0x7fbe9e836d30>"
      ]
     },
     "metadata": {},
     "output_type": "display_data"
    },
    {
     "data": {
      "image/png": "[encoded data removed]",
      "text/plain": [
       "<matplotlib.figure.Figure at 0x7fbe9e630470>"
      ]
     },
     "metadata": {},
     "output_type": "display_data"
    },
    {
     "data": {
      "image/png": "[encoded data removed]",
      "text/plain": [
       "<matplotlib.figure.Figure at 0x7fbe9e62b940>"
      ]
     },
     "metadata": {},
     "output_type": "display_data"
    },
    {
     "data": {
      "image/png": "[encoded data removed]",
      "text/plain": [
       "<matplotlib.figure.Figure at 0x7fbe9f2be2b0>"
      ]
     },
     "metadata": {},
     "output_type": "display_data"
    }
   ],
   "source": [
    "col_names = ['X0', 'X1', 'X2', 'X3', 'X4', 'X5', 'X6', 'X8', ]\n",
    "for c in col_names:\n",
    "    d8 = df.groupby(c)['y'].apply(lambda x: x.tolist()).to_dict()\n",
    "    fig = plt.figure(figsize = (len(d8)//2,5))\n",
    "    ax = plt.axes()\n",
    "    data = []\n",
    "    labl = []\n",
    "    for f in d8:\n",
    "        data.append(d8[f])\n",
    "        labl.append(f)\n",
    "    # first boxplot pair\n",
    "    bp = plt.boxplot(data)\n",
    "    ax.set_xticklabels(labl)\n",
    "    plt.title(c)\n",
    "    plt.show()"
   ]
  },
  {
   "cell_type": "markdown",
   "metadata": {},
   "source": [
    "Especially X0 and X2 have a significant impact on y. The others not so much. We keep that in mind. \n"
   ]
  },
  {
   "cell_type": "code",
   "execution_count": null,
   "metadata": {
    "collapsed": true
   },
   "outputs": [],
   "source": []
  },
  {
   "cell_type": "markdown",
   "metadata": {},
   "source": [
    "Adjust test and training data\n",
    "====\n",
    "\n",
    "Create Dummies for categorical vars in training data:"
   ]
  },
  {
   "cell_type": "code",
   "execution_count": 32,
   "metadata": {
    "collapsed": true
   },
   "outputs": [],
   "source": [
    "df_dummy = pd.get_dummies(df, prefix = ['X0', 'X1', 'X2', 'X3', 'X4', 'X5', 'X6', 'X8'])\n",
    "\n",
    "id_train = df.ID\n",
    "y = df.y\n",
    "df_dummy = df_dummy.drop(['ID', 'y'],axis = 1)\n",
    "\n",
    "X = np.array(df_dummy.as_matrix())"
   ]
  },
  {
   "cell_type": "markdown",
   "metadata": {},
   "source": [
    "Read test data, and drop the unnecessary features. "
   ]
  },
  {
   "cell_type": "code",
   "execution_count": 10,
   "metadata": {
    "collapsed": true
   },
   "outputs": [],
   "source": [
    "df_test = pd.read_csv(\"test.csv\")\n",
    "for f in dropped_features:\n",
    "    df_test = df_test.drop(f, axis = 1)\n",
    "    \n",
    "id_test = np.array(df_test['ID'].tolist())\n",
    "df_test = df_test.drop('ID',axis = 1)\n",
    "\n",
    "df_test_dummy = pd.get_dummies(df_test, prefix = ['X0', 'X1', 'X2', 'X3', 'X4', 'X5', 'X6', 'X8'])"
   ]
  },
  {
   "cell_type": "markdown",
   "metadata": {},
   "source": [
    "We can see that training and test set don't have all features in common:"
   ]
  },
  {
   "cell_type": "code",
   "execution_count": 11,
   "metadata": {
    "collapsed": false
   },
   "outputs": [
    {
     "name": "stdout",
     "output_type": "stream",
     "text": [
      "{'X5_a', 'X0_ag', 'X5_z', 'X2_ad', 'X5_t', 'X5_b', 'X2_aj', 'X2_u', 'X0_bb', 'X2_w', 'X2_ax', 'X2_ab', 'X0_av', 'X0_ae', 'X0_p', 'X0_an'}\n"
     ]
    }
   ],
   "source": [
    "D = set(df_test_dummy.columns) - set(df_dummy.columns)\n",
    "print(D)"
   ]
  },
  {
   "cell_type": "markdown",
   "metadata": {},
   "source": [
    "Especially those features that are contained in the test set and are missing in the training set are a problem. How to deal with them? Fortunately, most of these features are rare:"
   ]
  },
  {
   "cell_type": "code",
   "execution_count": 12,
   "metadata": {
    "collapsed": false
   },
   "outputs": [
    {
     "name": "stdout",
     "output_type": "stream",
     "text": [
      "X5_a     1\n",
      "X0_ag    1\n",
      "X5_z     1\n",
      "X2_ad    4\n",
      "X5_t     1\n",
      "X5_b     1\n",
      "X2_aj    1\n",
      "X2_u     1\n",
      "X0_bb    1\n",
      "X2_w     3\n",
      "X2_ax    1\n",
      "X2_ab    4\n",
      "X0_av    1\n",
      "X0_ae    1\n",
      "X0_p     1\n",
      "X0_an    1\n",
      "dtype: int64\n"
     ]
    }
   ],
   "source": [
    "print(df_test_dummy.loc[:, list(D)].sum())  # etc rotate through everything;"
   ]
  },
  {
   "cell_type": "markdown",
   "metadata": {},
   "source": [
    "These features need to be replaces by some feature known to the training set. Right now I can't think of a clever way, so I'll replace them by the most common feature per group."
   ]
  },
  {
   "cell_type": "code",
   "execution_count": 13,
   "metadata": {
    "collapsed": false
   },
   "outputs": [
    {
     "name": "stdout",
     "output_type": "stream",
     "text": [
      "no unknown features any more:\n",
      "set()\n"
     ]
    }
   ],
   "source": [
    "L0 = set(df_test['X0']) - set(df['X0'].tolist()) \n",
    "L2 = set(df_test['X2']) - set(df['X2'].tolist()) \n",
    "L5 = set(df_test['X5']) - set(df['X5'].tolist()) \n",
    "\n",
    "df_test.loc[df_test['X0'].isin(L0),'X0'] = df_test['X0'].value_counts().index[0]\n",
    "df_test.loc[df_test['X2'].isin(L2),'X2'] = df_test['X2'].value_counts().index[0]\n",
    "df_test.loc[df_test['X5'].isin(L5),'X5'] = df_test['X5'].value_counts().index[0]\n",
    "\n",
    "df_test_dummy = pd.get_dummies(df_test, prefix = ['X0', 'X1', 'X2', 'X3', 'X4', 'X5', 'X6', 'X8'])\n",
    "\n",
    "print('no unknown features any more:')\n",
    "print( set(df_test_dummy.columns) - set(df_dummy.columns))"
   ]
  },
  {
   "cell_type": "markdown",
   "metadata": {},
   "source": [
    "Further, drop useless columns from training data:"
   ]
  },
  {
   "cell_type": "code",
   "execution_count": 14,
   "metadata": {
    "collapsed": false
   },
   "outputs": [
    {
     "name": "stdout",
     "output_type": "stream",
     "text": [
      "feature space is the same now:\n",
      "True\n"
     ]
    }
   ],
   "source": [
    "unused_cols = set(df_dummy.columns) - set(df_test_dummy.columns)\n",
    "df_dummy = df_dummy.drop(unused_cols, axis = 1)\n",
    "\n",
    "print('feature space is the same now:')\n",
    "print(set(df_dummy.columns) == set(df_test_dummy.columns))\n",
    "\n",
    "X = np.array(df_dummy.as_matrix())"
   ]
  },
  {
   "cell_type": "markdown",
   "metadata": {},
   "source": [
    "$(X,y)$ is now our training data, and X_test the corresponding test data."
   ]
  },
  {
   "cell_type": "code",
   "execution_count": 15,
   "metadata": {
    "collapsed": true
   },
   "outputs": [],
   "source": [
    "X_test = np.array(df_test_dummy.as_matrix())"
   ]
  },
  {
   "cell_type": "markdown",
   "metadata": {},
   "source": [
    "Grid Search\n",
    "=====\n",
    "\n"
   ]
  },
  {
   "cell_type": "code",
   "execution_count": 16,
   "metadata": {
    "collapsed": false
   },
   "outputs": [],
   "source": [
    "cv_params = {'max_depth': [1,2,3,5,7,10,15,20]}\n",
    "fix_params = {'learning_rate': 0.2, 'n_estimators': 100}"
   ]
  },
  {
   "cell_type": "code",
   "execution_count": null,
   "metadata": {
    "collapsed": true
   },
   "outputs": [],
   "source": [
    "csv = GridSearchCV(xgb.XGBRegressor(**fix_params), cv_params, scoring = 'r2', cv = 10)\n",
    "csv.fit(X, y)\n",
    "csv.best_params_"
   ]
  },
  {
   "cell_type": "code",
   "execution_count": 30,
   "metadata": {
    "collapsed": false
   },
   "outputs": [
    {
     "name": "stderr",
     "output_type": "stream",
     "text": [
      "/home/dominik/anaconda3/lib/python3.6/site-packages/sklearn/model_selection/_search.py:667: DeprecationWarning: The grid_scores_ attribute was deprecated in version 0.18 in favor of the more elaborate cv_results_ attribute. The grid_scores_ attribute will not be available from 0.20\n",
      "  DeprecationWarning)\n"
     ]
    },
    {
     "data": {
      "text/plain": [
       "[mean: 0.56790, std: 0.08807, params: {'max_depth': 1},\n",
       " mean: 0.57360, std: 0.08881, params: {'max_depth': 2},\n",
       " mean: 0.56773, std: 0.09061, params: {'max_depth': 3},\n",
       " mean: 0.55113, std: 0.09756, params: {'max_depth': 5},\n",
       " mean: 0.53929, std: 0.08904, params: {'max_depth': 7},\n",
       " mean: 0.52381, std: 0.08308, params: {'max_depth': 10},\n",
       " mean: 0.49307, std: 0.07057, params: {'max_depth': 15},\n",
       " mean: 0.48466, std: 0.07122, params: {'max_depth': 20}]"
      ]
     },
     "execution_count": 30,
     "metadata": {},
     "output_type": "execute_result"
    }
   ],
   "source": [
    "csv.grid_scores_"
   ]
  },
  {
   "cell_type": "code",
   "execution_count": 17,
   "metadata": {
    "collapsed": false
   },
   "outputs": [],
   "source": [
    "cv_params = {'min_child_weight': [7,8,9,10,11,12,13]}\n",
    "fix_params['max_depth'] = 2"
   ]
  },
  {
   "cell_type": "code",
   "execution_count": null,
   "metadata": {
    "collapsed": true
   },
   "outputs": [],
   "source": [
    "csv = GridSearchCV(xgb.XGBRegressor(**fix_params), cv_params, scoring = 'r2', cv = 10)\n",
    "csv.fit(X, y)\n",
    "print(csv.best_params_)"
   ]
  },
  {
   "cell_type": "code",
   "execution_count": 36,
   "metadata": {
    "collapsed": false
   },
   "outputs": [
    {
     "name": "stderr",
     "output_type": "stream",
     "text": [
      "/home/dominik/anaconda3/lib/python3.6/site-packages/sklearn/model_selection/_search.py:667: DeprecationWarning: The grid_scores_ attribute was deprecated in version 0.18 in favor of the more elaborate cv_results_ attribute. The grid_scores_ attribute will not be available from 0.20\n",
      "  DeprecationWarning)\n"
     ]
    },
    {
     "data": {
      "text/plain": [
       "[mean: 0.57537, std: 0.08780, params: {'min_child_weight': 7},\n",
       " mean: 0.57509, std: 0.08834, params: {'min_child_weight': 8},\n",
       " mean: 0.57545, std: 0.08856, params: {'min_child_weight': 9},\n",
       " mean: 0.57569, std: 0.08898, params: {'min_child_weight': 10},\n",
       " mean: 0.57600, std: 0.08998, params: {'min_child_weight': 11},\n",
       " mean: 0.57542, std: 0.08860, params: {'min_child_weight': 12},\n",
       " mean: 0.57515, std: 0.08955, params: {'min_child_weight': 13}]"
      ]
     },
     "execution_count": 36,
     "metadata": {},
     "output_type": "execute_result"
    }
   ],
   "source": [
    "csv.grid_scores_"
   ]
  },
  {
   "cell_type": "code",
   "execution_count": 18,
   "metadata": {
    "collapsed": false
   },
   "outputs": [],
   "source": [
    "cv_params = {'subsample': [0.5, 0.6, 0.7,0.8,0.9,1]}\n",
    "fix_params['min_child_weight'] = 11"
   ]
  },
  {
   "cell_type": "code",
   "execution_count": null,
   "metadata": {
    "collapsed": true
   },
   "outputs": [],
   "source": [
    "csv = GridSearchCV(xgb.XGBRegressor(**fix_params), cv_params, scoring = 'r2', cv = 10)\n",
    "csv.fit(X, y)\n",
    "print(csv.best_params_)"
   ]
  },
  {
   "cell_type": "code",
   "execution_count": 38,
   "metadata": {
    "collapsed": false
   },
   "outputs": [
    {
     "name": "stderr",
     "output_type": "stream",
     "text": [
      "/home/dominik/anaconda3/lib/python3.6/site-packages/sklearn/model_selection/_search.py:667: DeprecationWarning: The grid_scores_ attribute was deprecated in version 0.18 in favor of the more elaborate cv_results_ attribute. The grid_scores_ attribute will not be available from 0.20\n",
      "  DeprecationWarning)\n"
     ]
    },
    {
     "data": {
      "text/plain": [
       "[mean: 0.56697, std: 0.09138, params: {'subsample': 0.5},\n",
       " mean: 0.57030, std: 0.08899, params: {'subsample': 0.6},\n",
       " mean: 0.57094, std: 0.08860, params: {'subsample': 0.7},\n",
       " mean: 0.57549, std: 0.08991, params: {'subsample': 0.8},\n",
       " mean: 0.57433, std: 0.08921, params: {'subsample': 0.9},\n",
       " mean: 0.57600, std: 0.08998, params: {'subsample': 1}]"
      ]
     },
     "execution_count": 38,
     "metadata": {},
     "output_type": "execute_result"
    }
   ],
   "source": [
    "csv.grid_scores_"
   ]
  },
  {
   "cell_type": "code",
   "execution_count": 19,
   "metadata": {
    "collapsed": false
   },
   "outputs": [],
   "source": [
    "cv_params = {'max_delta_step': [7,8,9,10,11,12,15,20]}\n",
    "fix_params['subsample'] = 1"
   ]
  },
  {
   "cell_type": "code",
   "execution_count": 42,
   "metadata": {
    "collapsed": false
   },
   "outputs": [
    {
     "name": "stderr",
     "output_type": "stream",
     "text": [
      "/home/dominik/anaconda3/lib/python3.6/site-packages/sklearn/model_selection/_search.py:667: DeprecationWarning: The grid_scores_ attribute was deprecated in version 0.18 in favor of the more elaborate cv_results_ attribute. The grid_scores_ attribute will not be available from 0.20\n",
      "  DeprecationWarning)\n"
     ]
    },
    {
     "data": {
      "text/plain": [
       "[mean: 0.57947, std: 0.08994, params: {'max_delta_step': 7},\n",
       " mean: 0.57951, std: 0.09010, params: {'max_delta_step': 8},\n",
       " mean: 0.57924, std: 0.08994, params: {'max_delta_step': 9},\n",
       " mean: 0.57915, std: 0.08914, params: {'max_delta_step': 10},\n",
       " mean: 0.57857, std: 0.08930, params: {'max_delta_step': 11},\n",
       " mean: 0.57835, std: 0.08994, params: {'max_delta_step': 12},\n",
       " mean: 0.57675, std: 0.08922, params: {'max_delta_step': 15},\n",
       " mean: 0.57564, std: 0.08852, params: {'max_delta_step': 20}]"
      ]
     },
     "execution_count": 42,
     "metadata": {},
     "output_type": "execute_result"
    }
   ],
   "source": [
    "csv = GridSearchCV(xgb.XGBRegressor(**fix_params), cv_params, scoring = 'r2', cv = 10)\n",
    "csv.fit(X, y)\n",
    "print(csv.best_params_)"
   ]
  },
  {
   "cell_type": "code",
   "execution_count": null,
   "metadata": {
    "collapsed": true
   },
   "outputs": [],
   "source": [
    "csv.grid_scores_"
   ]
  },
  {
   "cell_type": "code",
   "execution_count": 20,
   "metadata": {
    "collapsed": false
   },
   "outputs": [],
   "source": [
    "cv_params = {'learning_rate': [0.05, 0.1, 0.15, 0.2, 0.25, 0.3]}\n",
    "fix_params['max_delta_step'] = 8"
   ]
  },
  {
   "cell_type": "code",
   "execution_count": null,
   "metadata": {
    "collapsed": true
   },
   "outputs": [],
   "source": [
    "csv = GridSearchCV(xgb.XGBRegressor(**fix_params), cv_params, scoring = 'r2', cv = 10)\n",
    "csv.fit(X, y)\n",
    "print(csv.best_params_)"
   ]
  },
  {
   "cell_type": "code",
   "execution_count": 44,
   "metadata": {
    "collapsed": false
   },
   "outputs": [
    {
     "name": "stderr",
     "output_type": "stream",
     "text": [
      "/home/dominik/anaconda3/lib/python3.6/site-packages/sklearn/model_selection/_search.py:667: DeprecationWarning: The grid_scores_ attribute was deprecated in version 0.18 in favor of the more elaborate cv_results_ attribute. The grid_scores_ attribute will not be available from 0.20\n",
      "  DeprecationWarning)\n"
     ]
    },
    {
     "data": {
      "text/plain": [
       "[mean: -23.22781, std: 2.97068, params: {'learning_rate': 0.05},\n",
       " mean: -2.59069, std: 0.23806, params: {'learning_rate': 0.1},\n",
       " mean: 0.57703, std: 0.09302, params: {'learning_rate': 0.15},\n",
       " mean: 0.57951, std: 0.09010, params: {'learning_rate': 0.2},\n",
       " mean: 0.57732, std: 0.08840, params: {'learning_rate': 0.25},\n",
       " mean: 0.57745, std: 0.09017, params: {'learning_rate': 0.3}]"
      ]
     },
     "execution_count": 44,
     "metadata": {},
     "output_type": "execute_result"
    }
   ],
   "source": [
    "csv.grid_scores_"
   ]
  },
  {
   "cell_type": "code",
   "execution_count": 21,
   "metadata": {
    "collapsed": true
   },
   "outputs": [],
   "source": [
    "fix_params['learning_rate'] = 0.2"
   ]
  },
  {
   "cell_type": "code",
   "execution_count": 22,
   "metadata": {
    "collapsed": false
   },
   "outputs": [
    {
     "data": {
      "text/plain": [
       "{'learning_rate': 0.2,\n",
       " 'max_delta_step': 8,\n",
       " 'max_depth': 2,\n",
       " 'min_child_weight': 11,\n",
       " 'n_estimators': 100,\n",
       " 'subsample': 1}"
      ]
     },
     "execution_count": 22,
     "metadata": {},
     "output_type": "execute_result"
    }
   ],
   "source": [
    "fix_params"
   ]
  },
  {
   "cell_type": "code",
   "execution_count": 47,
   "metadata": {
    "collapsed": true
   },
   "outputs": [],
   "source": [
    "del fix_params['max_depth']"
   ]
  },
  {
   "cell_type": "code",
   "execution_count": 49,
   "metadata": {
    "collapsed": false
   },
   "outputs": [
    {
     "name": "stdout",
     "output_type": "stream",
     "text": [
      "{'max_depth': 2}\n"
     ]
    }
   ],
   "source": [
    "cv_params = {'max_depth': [1,2,3,4, 5,7,10,15,20]}\n",
    "#cv_params = {'min_child_weight', 'subsample': [0.8,0.9,1], 'max_delta_step': [0,1,2,4], 'learning_rate': [0.05, 0.1, 0.15, 0.2, 0.25, 0.3]}\n",
    "\n",
    "csv = GridSearchCV(xgb.XGBRegressor(**fix_params), cv_params, scoring = 'r2', cv = 10)\n",
    "csv.fit(X, y)\n",
    "print(csv.best_params_)"
   ]
  },
  {
   "cell_type": "markdown",
   "metadata": {},
   "source": [
    "Not much has changed any more."
   ]
  },
  {
   "cell_type": "code",
   "execution_count": 23,
   "metadata": {
    "collapsed": false
   },
   "outputs": [],
   "source": [
    "fix_params['max_depth'] = 2"
   ]
  },
  {
   "cell_type": "markdown",
   "metadata": {},
   "source": [
    "Confirm found parameters."
   ]
  },
  {
   "cell_type": "code",
   "execution_count": 28,
   "metadata": {
    "collapsed": false
   },
   "outputs": [],
   "source": [
    "fix_params ={'learning_rate': 0.2,\n",
    " 'max_delta_step': 8,\n",
    " 'max_depth': 2,\n",
    " 'min_child_weight': 11,\n",
    " 'n_estimators': 100,\n",
    " 'subsample': 1}"
   ]
  },
  {
   "cell_type": "markdown",
   "metadata": {},
   "source": [
    "Make Predictions\n",
    "===="
   ]
  },
  {
   "cell_type": "code",
   "execution_count": 27,
   "metadata": {
    "collapsed": false
   },
   "outputs": [],
   "source": [
    "xgdmat_train = xgb.DMatrix(X, y)\n",
    "xgdmat_test = xgb.DMatrix(X_test)\n",
    "xgb_final = xgb.train(fix_params, xgdmat_train, num_boost_round = 1000)\n",
    "y_pred = xgb_final.predict(xgdmat_test)\n",
    "df_out = pd.DataFrame({\"ID\":id_test, \"y\":y_pred})\n",
    "\n",
    "df_out.to_csv(\"sol.csv\", index= False)"
   ]
  },
  {
   "cell_type": "code",
   "execution_count": null,
   "metadata": {
    "collapsed": true
   },
   "outputs": [],
   "source": []
  }
 ],
 "metadata": {
  "kernelspec": {
   "display_name": "Python 3",
   "language": "python",
   "name": "python3"
  },
  "language_info": {
   "codemirror_mode": {
    "name": "ipython",
    "version": 3
   },
   "file_extension": ".py",
   "mimetype": "text/x-python",
   "name": "python",
   "nbconvert_exporter": "python",
   "pygments_lexer": "ipython3",
   "version": "3.6.0"
  }
 },
 "nbformat": 4,
 "nbformat_minor": 2
}
